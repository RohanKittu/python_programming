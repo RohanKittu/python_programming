{
 "cells": [
  {
   "cell_type": "markdown",
   "metadata": {},
   "source": [
    "### from [here](https://www.w3schools.com/python/python_regex.asp)"
   ]
  },
  {
   "cell_type": "code",
   "execution_count": 1,
   "metadata": {},
   "outputs": [],
   "source": [
    "import re"
   ]
  },
  {
   "cell_type": "code",
   "execution_count": 7,
   "metadata": {},
   "outputs": [],
   "source": [
    "#example\n",
    "import re\n",
    "\n",
    "txt = 'The rain in spain'\n",
    "x = re.search('^The.*spain$',txt)"
   ]
  },
  {
   "cell_type": "code",
   "execution_count": 8,
   "metadata": {},
   "outputs": [
    {
     "name": "stdout",
     "output_type": "stream",
     "text": [
      "<_sre.SRE_Match object; span=(0, 17), match='The rain in spain'>\n"
     ]
    }
   ],
   "source": [
    "print(x)"
   ]
  },
  {
   "cell_type": "markdown",
   "metadata": {},
   "source": [
    "### Regex function"
   ]
  },
  {
   "cell_type": "markdown",
   "metadata": {},
   "source": [
    "- findall -> gives list of all matches.\n",
    "- search -> gives matched text if any \n",
    "- split  -> gives list where the string has been split at each match.\n",
    "- sub    -> replace one or many matches with string\n",
    "- match  -> match patterns at the begining of strings.\n",
    "- finditer -> gives all method instances from an iterator,when scanned from left to right."
   ]
  },
  {
   "cell_type": "markdown",
   "metadata": {},
   "source": [
    "![](1.png)"
   ]
  },
  {
   "cell_type": "markdown",
   "metadata": {},
   "source": [
    "### [ ]"
   ]
  },
  {
   "cell_type": "code",
   "execution_count": 3,
   "metadata": {},
   "outputs": [
    {
     "name": "stdout",
     "output_type": "stream",
     "text": [
      "['h', 'e', 'a', 'i', 'i', 'a', 'i']\n"
     ]
    }
   ],
   "source": [
    "import re\n",
    "\n",
    "txt = 'The rain in Spain'\n",
    "#finds all lowercase characters alphabetically from a to m.\n",
    "\n",
    "x = re.findall('[a-m]',txt)\n",
    "print(x)"
   ]
  },
  {
   "cell_type": "markdown",
   "metadata": {},
   "source": [
    "### \\s"
   ]
  },
  {
   "cell_type": "code",
   "execution_count": 5,
   "metadata": {},
   "outputs": [
    {
     "name": "stdout",
     "output_type": "stream",
     "text": [
      "[' ', ' ', ' ', ' ']\n"
     ]
    }
   ],
   "source": [
    "import re\n",
    "txt = 'That will be 59 dollars'\n",
    "\n",
    "#finds all white spaces not string\n",
    "x = re.findall('\\s',txt)\n",
    "print(x)"
   ]
  },
  {
   "cell_type": "markdown",
   "metadata": {},
   "source": [
    "### \\d"
   ]
  },
  {
   "cell_type": "code",
   "execution_count": 6,
   "metadata": {},
   "outputs": [
    {
     "name": "stdout",
     "output_type": "stream",
     "text": [
      "['5', '9']\n"
     ]
    }
   ],
   "source": [
    "import re\n",
    "txt = 'That will be 59 dollars'\n",
    "\n",
    "#finds all digital numbers\n",
    "x = re.findall('\\d',txt)\n",
    "print(x)"
   ]
  },
  {
   "cell_type": "markdown",
   "metadata": {},
   "source": [
    "### ."
   ]
  },
  {
   "cell_type": "code",
   "execution_count": 7,
   "metadata": {},
   "outputs": [
    {
     "name": "stdout",
     "output_type": "stream",
     "text": [
      "['hello']\n"
     ]
    }
   ],
   "source": [
    "import re\n",
    "\n",
    "txt = 'hello world'\n",
    "#search for a sentence starts with 'he' and ends with 'o' in between 2 characters\n",
    "\n",
    "x = re.findall('he..o',txt)\n",
    "print(x)"
   ]
  },
  {
   "cell_type": "code",
   "execution_count": 1,
   "metadata": {},
   "outputs": [
    {
     "name": "stdout",
     "output_type": "stream",
     "text": [
      "['he09o']\n"
     ]
    }
   ],
   "source": [
    "import re\n",
    "\n",
    "txt = 'he09o world'\n",
    "#search for a sentence starts with 'he' and ends with 'o' in between 2 characters\n",
    "\n",
    "x = re.findall('he..o',txt)\n",
    "print(x)"
   ]
  },
  {
   "cell_type": "code",
   "execution_count": 19,
   "metadata": {},
   "outputs": [
    {
     "name": "stdout",
     "output_type": "stream",
     "text": [
      "['hello wo']\n"
     ]
    }
   ],
   "source": [
    "import re\n",
    "\n",
    "txt = 'hello world'\n",
    "#search for a sentence starts with 'he' and ends with 'o' in between 2 characters\n",
    "\n",
    "x = re.findall('he.*o',txt)\n",
    "print(x)"
   ]
  },
  {
   "cell_type": "markdown",
   "metadata": {},
   "source": [
    "### ^"
   ]
  },
  {
   "cell_type": "code",
   "execution_count": 20,
   "metadata": {},
   "outputs": [
    {
     "name": "stdout",
     "output_type": "stream",
     "text": [
      "[]\n"
     ]
    }
   ],
   "source": [
    "import re\n",
    "txt = 'helloooo world'\n",
    "\n",
    "x = re.findall('^h.*o$',txt)\n",
    "print(x)"
   ]
  },
  {
   "cell_type": "markdown",
   "metadata": {},
   "source": [
    "its not working becuase you have to pass the whole text before space to the ^. just passing single character wont work."
   ]
  },
  {
   "cell_type": "code",
   "execution_count": 10,
   "metadata": {},
   "outputs": [
    {
     "name": "stdout",
     "output_type": "stream",
     "text": [
      "['helloooo']\n"
     ]
    }
   ],
   "source": [
    "import re\n",
    "txt = 'helloooo world'\n",
    "\n",
    "x = re.findall('^helloooo',txt)\n",
    "print(x)"
   ]
  },
  {
   "cell_type": "markdown",
   "metadata": {},
   "source": [
    "### $"
   ]
  },
  {
   "cell_type": "code",
   "execution_count": 11,
   "metadata": {},
   "outputs": [
    {
     "name": "stdout",
     "output_type": "stream",
     "text": [
      "['world']\n"
     ]
    }
   ],
   "source": [
    "import re\n",
    "txt = 'helloooo world'\n",
    "\n",
    "x = re.findall('world$',txt)\n",
    "print(x)"
   ]
  },
  {
   "cell_type": "code",
   "execution_count": 12,
   "metadata": {},
   "outputs": [
    {
     "name": "stdout",
     "output_type": "stream",
     "text": [
      "[]\n"
     ]
    }
   ],
   "source": [
    "import re\n",
    "txt = 'helloooo world'\n",
    "\n",
    "x = re.findall('helloooo$',txt)\n",
    "print(x)"
   ]
  },
  {
   "cell_type": "markdown",
   "metadata": {},
   "source": [
    "becase the sentence not ends with helloooo"
   ]
  },
  {
   "cell_type": "markdown",
   "metadata": {},
   "source": [
    "### *"
   ]
  },
  {
   "cell_type": "code",
   "execution_count": 15,
   "metadata": {},
   "outputs": [
    {
     "name": "stdout",
     "output_type": "stream",
     "text": [
      "['helloooo wo']\n"
     ]
    }
   ],
   "source": [
    "import re\n",
    "txt = 'helloooo world'\n",
    "\n",
    "x = re.findall('h.*o',txt)\n",
    "print(x)"
   ]
  },
  {
   "cell_type": "code",
   "execution_count": 16,
   "metadata": {},
   "outputs": [
    {
     "name": "stdout",
     "output_type": "stream",
     "text": [
      "['helloooo']\n"
     ]
    }
   ],
   "source": [
    "import re\n",
    "txt = 'helloooo world'\n",
    "\n",
    "x = re.findall('h.*oo',txt)\n",
    "print(x)"
   ]
  },
  {
   "cell_type": "markdown",
   "metadata": {},
   "source": [
    "### + -> One or more occurences"
   ]
  },
  {
   "cell_type": "code",
   "execution_count": 18,
   "metadata": {},
   "outputs": [
    {
     "name": "stdout",
     "output_type": "stream",
     "text": [
      "['helloooo']\n"
     ]
    }
   ],
   "source": [
    "import re\n",
    "txt = 'helloooo world'\n",
    "\n",
    "x= re.findall('h.l+o+',txt)\n",
    "print(x)"
   ]
  },
  {
   "cell_type": "code",
   "execution_count": 19,
   "metadata": {},
   "outputs": [
    {
     "name": "stdout",
     "output_type": "stream",
     "text": [
      "[]\n"
     ]
    }
   ],
   "source": [
    "import re\n",
    "txt = 'helloooo world'\n",
    "\n",
    "x= re.findall('h.3o+',txt)\n",
    "print(x)"
   ]
  },
  {
   "cell_type": "markdown",
   "metadata": {},
   "source": [
    "nothing returns"
   ]
  },
  {
   "cell_type": "markdown",
   "metadata": {},
   "source": [
    "### { }- exactly specified number of occurences"
   ]
  },
  {
   "cell_type": "code",
   "execution_count": 20,
   "metadata": {},
   "outputs": [
    {
     "name": "stdout",
     "output_type": "stream",
     "text": [
      "['helloooo']\n"
     ]
    }
   ],
   "source": [
    "import re\n",
    "txt = 'helloooo world'\n",
    "\n",
    "x= re.findall('h.l+o{4}',txt)\n",
    "print(x)"
   ]
  },
  {
   "cell_type": "code",
   "execution_count": 21,
   "metadata": {},
   "outputs": [
    {
     "name": "stdout",
     "output_type": "stream",
     "text": [
      "['helloooo']\n"
     ]
    }
   ],
   "source": [
    "import re\n",
    "txt = 'helloooo world'\n",
    "\n",
    "x= re.findall('h.l*o{4}',txt)\n",
    "print(x)"
   ]
  },
  {
   "cell_type": "markdown",
   "metadata": {},
   "source": [
    "### | either this or that"
   ]
  },
  {
   "cell_type": "code",
   "execution_count": 23,
   "metadata": {},
   "outputs": [
    {
     "name": "stdout",
     "output_type": "stream",
     "text": [
      "['helloooo']\n"
     ]
    }
   ],
   "source": [
    "import re\n",
    "txt = 'helloooo world'\n",
    "\n",
    "x = re.findall('h.l*o*',txt)\n",
    "print(x)"
   ]
  },
  {
   "cell_type": "code",
   "execution_count": 24,
   "metadata": {},
   "outputs": [
    {
     "name": "stdout",
     "output_type": "stream",
     "text": [
      "['helloooo']\n"
     ]
    }
   ],
   "source": [
    "import re\n",
    "txt = 'helloooo world'\n",
    "\n",
    "x = re.findall('hi|h.l*o*',txt)\n",
    "print(x)"
   ]
  },
  {
   "cell_type": "code",
   "execution_count": 25,
   "metadata": {},
   "outputs": [
    {
     "name": "stdout",
     "output_type": "stream",
     "text": [
      "['hi']\n"
     ]
    }
   ],
   "source": [
    "import re\n",
    "txt = 'hi world'\n",
    "\n",
    "x = re.findall('hi|h.l*o*',txt)\n",
    "print(x)"
   ]
  },
  {
   "cell_type": "code",
   "execution_count": null,
   "metadata": {},
   "outputs": [],
   "source": []
  },
  {
   "cell_type": "markdown",
   "metadata": {},
   "source": [
    "![](2.png)"
   ]
  },
  {
   "cell_type": "markdown",
   "metadata": {},
   "source": [
    "### \\A - returns a match if given char is at the begining"
   ]
  },
  {
   "cell_type": "code",
   "execution_count": 27,
   "metadata": {},
   "outputs": [
    {
     "name": "stdout",
     "output_type": "stream",
     "text": [
      "['h']\n"
     ]
    }
   ],
   "source": [
    "import re\n",
    "txt = 'helloooo world'\n",
    "\n",
    "x = re.findall('\\Ah',txt)\n",
    "print(x)"
   ]
  },
  {
   "cell_type": "code",
   "execution_count": 28,
   "metadata": {},
   "outputs": [
    {
     "name": "stdout",
     "output_type": "stream",
     "text": [
      "[]\n"
     ]
    }
   ],
   "source": [
    "import re\n",
    "txt = 'helloooo world'\n",
    "\n",
    "x = re.findall('\\Aw',txt)\n",
    "print(x)"
   ]
  },
  {
   "cell_type": "markdown",
   "metadata": {},
   "source": [
    "its not working here because \"W\" is not the begining of sentence"
   ]
  },
  {
   "cell_type": "markdown",
   "metadata": {},
   "source": [
    "### \\b - returns a match if given char is at the begining or end of sentence"
   ]
  },
  {
   "cell_type": "code",
   "execution_count": 32,
   "metadata": {},
   "outputs": [
    {
     "name": "stdout",
     "output_type": "stream",
     "text": [
      "['hi']\n"
     ]
    }
   ],
   "source": [
    "import re\n",
    "txt = 'hi world'\n",
    "\n",
    "x = re.findall(r'\\bhi',txt)\n",
    "print(x)"
   ]
  },
  {
   "cell_type": "code",
   "execution_count": 33,
   "metadata": {},
   "outputs": [
    {
     "name": "stdout",
     "output_type": "stream",
     "text": [
      "['hi']\n"
     ]
    }
   ],
   "source": [
    "import re\n",
    "txt = 'hi world'\n",
    "\n",
    "x = re.findall(r'hi\\b',txt)\n",
    "print(x)"
   ]
  },
  {
   "cell_type": "code",
   "execution_count": 35,
   "metadata": {},
   "outputs": [
    {
     "name": "stdout",
     "output_type": "stream",
     "text": [
      "['wor']\n"
     ]
    }
   ],
   "source": [
    "import re\n",
    "txt = 'hi world'\n",
    "\n",
    "x = re.findall(r'\\bwor',txt)\n",
    "print(x)"
   ]
  },
  {
   "cell_type": "code",
   "execution_count": 36,
   "metadata": {},
   "outputs": [
    {
     "name": "stdout",
     "output_type": "stream",
     "text": [
      "[]\n"
     ]
    }
   ],
   "source": [
    "import re\n",
    "txt = 'hi world'\n",
    "\n",
    "x = re.findall(r'\\bor',txt)\n",
    "print(x)"
   ]
  },
  {
   "cell_type": "markdown",
   "metadata": {},
   "source": [
    "becuase no word starts with 'or'"
   ]
  },
  {
   "cell_type": "markdown",
   "metadata": {},
   "source": [
    "### /B - returns a match if given char present(but not at begining or end)"
   ]
  },
  {
   "cell_type": "code",
   "execution_count": 38,
   "metadata": {},
   "outputs": [
    {
     "name": "stdout",
     "output_type": "stream",
     "text": [
      "['or']\n"
     ]
    }
   ],
   "source": [
    "import re\n",
    "txt = 'hi world'\n",
    "\n",
    "x = re.findall(r'\\Bor',txt)\n",
    "print(x)"
   ]
  },
  {
   "cell_type": "code",
   "execution_count": 40,
   "metadata": {},
   "outputs": [
    {
     "name": "stdout",
     "output_type": "stream",
     "text": [
      "['loo']\n"
     ]
    }
   ],
   "source": [
    "import re\n",
    "txt = 'helloooo world'\n",
    "\n",
    "x = re.findall(r'\\Bloo',txt)\n",
    "print(x)"
   ]
  },
  {
   "cell_type": "markdown",
   "metadata": {},
   "source": [
    "### \\d returns only char for number & \\D for strings with not numbers"
   ]
  },
  {
   "cell_type": "code",
   "execution_count": 41,
   "metadata": {},
   "outputs": [
    {
     "name": "stdout",
     "output_type": "stream",
     "text": [
      "['1', '9', '9', '6']\n"
     ]
    }
   ],
   "source": [
    "import re\n",
    "txt = 'hi world, 1996 is birth of leader'\n",
    "\n",
    "x = re.findall(r'\\d',txt)\n",
    "print(x)"
   ]
  },
  {
   "cell_type": "code",
   "execution_count": 42,
   "metadata": {},
   "outputs": [
    {
     "name": "stdout",
     "output_type": "stream",
     "text": [
      "['h', 'i', ' ', 'w', 'o', 'r', 'l', 'd', ',', ' ', ' ', 'i', 's', ' ', 'b', 'i', 'r', 't', 'h', ' ', 'o', 'f', ' ', 'l', 'e', 'a', 'd', 'e', 'r']\n"
     ]
    }
   ],
   "source": [
    "import re\n",
    "txt = 'hi world, 1996 is birth of leader'\n",
    "\n",
    "x = re.findall(r'\\D',txt)\n",
    "print(x)"
   ]
  },
  {
   "cell_type": "markdown",
   "metadata": {},
   "source": [
    "### \\s returns only char for string with space & \\S for strings not with space"
   ]
  },
  {
   "cell_type": "code",
   "execution_count": 43,
   "metadata": {},
   "outputs": [
    {
     "name": "stdout",
     "output_type": "stream",
     "text": [
      "[' ', ' ', ' ', ' ', ' ', ' ']\n"
     ]
    }
   ],
   "source": [
    "import re\n",
    "txt = 'hi world, 1996 is birth of leader'\n",
    "\n",
    "x = re.findall(r'\\s',txt)\n",
    "print(x)"
   ]
  },
  {
   "cell_type": "code",
   "execution_count": 44,
   "metadata": {},
   "outputs": [
    {
     "name": "stdout",
     "output_type": "stream",
     "text": [
      "['h', 'i', 'w', 'o', 'r', 'l', 'd', ',', '1', '9', '9', '6', 'i', 's', 'b', 'i', 'r', 't', 'h', 'o', 'f', 'l', 'e', 'a', 'd', 'e', 'r']\n"
     ]
    }
   ],
   "source": [
    "import re\n",
    "txt = 'hi world, 1996 is birth of leader'\n",
    "\n",
    "x = re.findall(r'\\S',txt)\n",
    "print(x)"
   ]
  },
  {
   "cell_type": "markdown",
   "metadata": {},
   "source": [
    "### IMP \\w returns char  from a to z, digits from 0-9, and _ char"
   ]
  },
  {
   "cell_type": "code",
   "execution_count": 46,
   "metadata": {},
   "outputs": [
    {
     "name": "stdout",
     "output_type": "stream",
     "text": [
      "['h', 'i', 'w', 'o', 'r', 'l', 'd', '1', '9', '9', '6', 'i', 's', 'b', 'i', 'r', 't', 'h', 'o', 'f', 'l', 'e', 'a', 'd', 'e', 'r', '_', 'l', 'e', 'g', 'e', 'n', 'd']\n"
     ]
    }
   ],
   "source": [
    "import re\n",
    "txt = 'hi world, 1996 is birth of leader_legend'\n",
    "\n",
    "x = re.findall(r'\\w',txt)\n",
    "print(x)"
   ]
  },
  {
   "cell_type": "markdown",
   "metadata": {},
   "source": [
    "its wont return space"
   ]
  },
  {
   "cell_type": "markdown",
   "metadata": {},
   "source": [
    "### IMP \\W"
   ]
  },
  {
   "cell_type": "code",
   "execution_count": 49,
   "metadata": {},
   "outputs": [
    {
     "name": "stdout",
     "output_type": "stream",
     "text": [
      "[' ', ',', ' ', ' ', ' ', ' ', ' ', '*', ' ', '\\n', ' ', '%', ' ', '&', ' ', '*', ' ', '(', ' ', '$']\n"
     ]
    }
   ],
   "source": [
    "import re\n",
    "txt = 'hi world, 1996 is birth of * leader_legend\\n % & * ( $'\n",
    "\n",
    "x = re.findall(r'\\W',txt)\n",
    "print(x)"
   ]
  },
  {
   "cell_type": "markdown",
   "metadata": {},
   "source": [
    "this returns special char"
   ]
  },
  {
   "cell_type": "code",
   "execution_count": null,
   "metadata": {},
   "outputs": [],
   "source": []
  },
  {
   "cell_type": "markdown",
   "metadata": {},
   "source": [
    "![](3.png)"
   ]
  },
  {
   "cell_type": "markdown",
   "metadata": {},
   "source": [
    "## Functions"
   ]
  },
  {
   "cell_type": "markdown",
   "metadata": {},
   "source": [
    "### findall()"
   ]
  },
  {
   "cell_type": "code",
   "execution_count": 50,
   "metadata": {},
   "outputs": [
    {
     "name": "stdout",
     "output_type": "stream",
     "text": [
      "['ai', 'ai']\n"
     ]
    }
   ],
   "source": [
    "import re\n",
    "\n",
    "txt = 'the rain in spain'\n",
    "x = re.findall('ai',txt)\n",
    "print(x)"
   ]
  },
  {
   "cell_type": "markdown",
   "metadata": {},
   "source": [
    "### Search()"
   ]
  },
  {
   "cell_type": "code",
   "execution_count": 54,
   "metadata": {},
   "outputs": [
    {
     "name": "stdout",
     "output_type": "stream",
     "text": [
      "<_sre.SRE_Match object; span=(3, 4), match=' '>\n"
     ]
    }
   ],
   "source": [
    "import re\n",
    "txt = 'the rain $ in spain'\n",
    "\n",
    "x = re.search('\\W',txt)\n",
    "\n",
    "print(x)"
   ]
  },
  {
   "cell_type": "code",
   "execution_count": 57,
   "metadata": {},
   "outputs": [
    {
     "name": "stdout",
     "output_type": "stream",
     "text": [
      "<_sre.SRE_Match object; span=(7, 8), match=' '>\n"
     ]
    }
   ],
   "source": [
    "import re\n",
    "txt = 'therain $ in spain'\n",
    "\n",
    "x = re.search('\\W',txt)\n",
    "\n",
    "print(x)"
   ]
  },
  {
   "cell_type": "code",
   "execution_count": 58,
   "metadata": {},
   "outputs": [
    {
     "name": "stdout",
     "output_type": "stream",
     "text": [
      "<_sre.SRE_Match object; span=(7, 8), match='$'>\n"
     ]
    }
   ],
   "source": [
    "import re\n",
    "txt = 'therain$ in spain'\n",
    "\n",
    "x = re.search('\\W',txt)\n",
    "\n",
    "print(x)"
   ]
  },
  {
   "cell_type": "markdown",
   "metadata": {},
   "source": [
    "### split()"
   ]
  },
  {
   "cell_type": "code",
   "execution_count": 59,
   "metadata": {},
   "outputs": [
    {
     "name": "stdout",
     "output_type": "stream",
     "text": [
      "['the', 'rain', 'in', 'spain']\n"
     ]
    }
   ],
   "source": [
    "import re\n",
    "\n",
    "txt = 'the rain in spain'\n",
    "x = re.split('\\s',txt)\n",
    "print(x)"
   ]
  },
  {
   "cell_type": "code",
   "execution_count": 60,
   "metadata": {},
   "outputs": [
    {
     "name": "stdout",
     "output_type": "stream",
     "text": [
      "['the rain ', ' in spain']\n"
     ]
    }
   ],
   "source": [
    "import re\n",
    "\n",
    "txt = 'the rain 9 in spain'\n",
    "x = re.split('\\d',txt)\n",
    "print(x)"
   ]
  },
  {
   "cell_type": "code",
   "execution_count": 61,
   "metadata": {},
   "outputs": [
    {
     "name": "stdout",
     "output_type": "stream",
     "text": [
      "['', '', '', '', '', '', '', '', '', '9', '', '', '', '', '', '', '', '', '']\n"
     ]
    }
   ],
   "source": [
    "import re\n",
    "\n",
    "txt = 'the rain 9 in spain'\n",
    "x = re.split('\\D',txt)\n",
    "print(x)"
   ]
  },
  {
   "cell_type": "markdown",
   "metadata": {},
   "source": [
    "### sub() - replace the matches with text of your choice"
   ]
  },
  {
   "cell_type": "code",
   "execution_count": 62,
   "metadata": {},
   "outputs": [
    {
     "name": "stdout",
     "output_type": "stream",
     "text": [
      "the9rain9in9spain\n"
     ]
    }
   ],
   "source": [
    "import re\n",
    "\n",
    "txt = 'the rain in spain'\n",
    "x = re.sub('\\s','9',txt)\n",
    "print(x)"
   ]
  },
  {
   "cell_type": "code",
   "execution_count": 64,
   "metadata": {},
   "outputs": [
    {
     "name": "stdout",
     "output_type": "stream",
     "text": [
      "the9rain9in spain\n"
     ]
    }
   ],
   "source": [
    "import re\n",
    "\n",
    "txt = 'the rain in spain'\n",
    "x = re.sub('\\s','9',txt,2)\n",
    "print(x)"
   ]
  },
  {
   "cell_type": "markdown",
   "metadata": {},
   "source": [
    "## More\n",
    "- https://www.shortcutfoo.com/app/dojos/python-regex/cheatsheet\n",
    "- http://www.pyregex.com/\n",
    "- https://learnbyexample.github.io/cheatsheet/python/python-regex-cheatsheet/\n",
    "- https://www.debuggex.com/cheatsheet/regex/python"
   ]
  },
  {
   "cell_type": "markdown",
   "metadata": {},
   "source": [
    "### pdf here"
   ]
  },
  {
   "cell_type": "code",
   "execution_count": 67,
   "metadata": {},
   "outputs": [
    {
     "data": {
      "text/html": [
       "\n",
       "        <iframe\n",
       "            width=\"600\"\n",
       "            height=\"1000\"\n",
       "            src=\"python-regular-expressions-cheat-sheet.pdf\"\n",
       "            frameborder=\"0\"\n",
       "            allowfullscreen\n",
       "        ></iframe>\n",
       "        "
      ],
      "text/plain": [
       "<IPython.lib.display.IFrame at 0x7f833ddc5b70>"
      ]
     },
     "execution_count": 67,
     "metadata": {},
     "output_type": "execute_result"
    }
   ],
   "source": [
    "from IPython.display import IFrame\n",
    "IFrame(\"python-regular-expressions-cheat-sheet.pdf\", width=600, height=1000)"
   ]
  },
  {
   "cell_type": "markdown",
   "metadata": {},
   "source": [
    "### Video [here](https://www.youtube.com/watch?v=zN8rwVXwRUE)"
   ]
  },
  {
   "cell_type": "code",
   "execution_count": 75,
   "metadata": {},
   "outputs": [
    {
     "name": "stdout",
     "output_type": "stream",
     "text": [
      "ages:- ['22', '33', '44', '21']\n",
      "Names:- ['Ja', 'Th', 'Ga', 'Jo']\n"
     ]
    }
   ],
   "source": [
    "import re\n",
    "\n",
    "NameAge = '''\n",
    "Janice is 22 and Theon in 33\n",
    "Gabriel is 44 and Joey is 21\n",
    "'''\n",
    "\n",
    "ages  = re.findall(r'\\d{1,2}',NameAge)\n",
    "print('ages:-',ages)\n",
    "names = re.findall('[A-Z][a-z]',NameAge)\n",
    "print('Names:-',names)"
   ]
  },
  {
   "cell_type": "markdown",
   "metadata": {},
   "source": [
    "if you see names '[A-Z]' is for Capital letters and '[a-z]' is for small letters, and * for many"
   ]
  },
  {
   "cell_type": "code",
   "execution_count": 76,
   "metadata": {},
   "outputs": [
    {
     "name": "stdout",
     "output_type": "stream",
     "text": [
      "ages:- ['22', '33', '44', '21']\n",
      "Names:- ['Janice', 'Theon', 'Gabriel', 'Joey']\n"
     ]
    }
   ],
   "source": [
    "import re\n",
    "\n",
    "NameAge = '''\n",
    "Janice is 22 and Theon in 33\n",
    "Gabriel is 44 and Joey is 21\n",
    "'''\n",
    "\n",
    "ages  = re.findall(r'\\d{1,2}',NameAge)\n",
    "print('ages:-',ages)\n",
    "names = re.findall('[A-Z][a-z]*',NameAge)\n",
    "print('Names:-',names)"
   ]
  },
  {
   "cell_type": "code",
   "execution_count": 78,
   "metadata": {},
   "outputs": [
    {
     "name": "stdout",
     "output_type": "stream",
     "text": [
      "{'Janice': '22', 'Theon': '33', 'Gabriel': '44', 'Joey': '21'}\n"
     ]
    }
   ],
   "source": [
    "import re\n",
    "\n",
    "NameAge = '''\n",
    "Janice is 22 and Theon in 33\n",
    "Gabriel is 44 and Joey is 21\n",
    "'''\n",
    "\n",
    "ages  = re.findall(r'\\d{1,2}',NameAge)\n",
    "names = re.findall('[A-Z][a-z]*',NameAge)\n",
    "\n",
    "agedict = {}\n",
    "x=  0\n",
    "for eachname in names:\n",
    "    agedict[eachname] = ages[x]\n",
    "    x+=1\n",
    "\n",
    "print(agedict)"
   ]
  },
  {
   "cell_type": "code",
   "execution_count": null,
   "metadata": {},
   "outputs": [],
   "source": []
  },
  {
   "cell_type": "code",
   "execution_count": null,
   "metadata": {},
   "outputs": [],
   "source": []
  },
  {
   "cell_type": "code",
   "execution_count": 79,
   "metadata": {},
   "outputs": [
    {
     "name": "stdout",
     "output_type": "stream",
     "text": [
      "There is inform\n"
     ]
    }
   ],
   "source": [
    "import re\n",
    "\n",
    "if re.search('inform', \"we need to inform him with latest information\"):\n",
    "    print('There is inform')"
   ]
  },
  {
   "cell_type": "code",
   "execution_count": 116,
   "metadata": {},
   "outputs": [
    {
     "name": "stdout",
     "output_type": "stream",
     "text": [
      "['very', 'very', 'good']\n"
     ]
    }
   ],
   "source": [
    "name = 'is very very good boy'\n",
    "\n",
    "c=  re.findall('[A-Za-z0-9]{4}',name)\n",
    "print(c)"
   ]
  },
  {
   "cell_type": "markdown",
   "metadata": {},
   "source": [
    "### Know the diff of ^ putting before and after"
   ]
  },
  {
   "cell_type": "code",
   "execution_count": 120,
   "metadata": {},
   "outputs": [
    {
     "data": {
      "text/plain": [
       "['pat', 'Sat']"
      ]
     },
     "execution_count": 120,
     "metadata": {},
     "output_type": "execute_result"
    }
   ],
   "source": [
    "import re\n",
    "\n",
    "string = 'hat, mat, pat,Sat'\n",
    "re.findall('[^h-m]at',string)"
   ]
  },
  {
   "cell_type": "markdown",
   "metadata": {},
   "source": [
    "Above it acts like negation"
   ]
  },
  {
   "cell_type": "code",
   "execution_count": 21,
   "metadata": {},
   "outputs": [
    {
     "data": {
      "text/plain": [
       "['hat']"
      ]
     },
     "execution_count": 21,
     "metadata": {},
     "output_type": "execute_result"
    }
   ],
   "source": [
    "import re\n",
    "\n",
    "string = 'hat, mat, pat,Sat'\n",
    "re.findall('^[h-n]at',string)"
   ]
  },
  {
   "cell_type": "markdown",
   "metadata": {},
   "source": [
    "Above it acts like **Starts with h**"
   ]
  },
  {
   "cell_type": "markdown",
   "metadata": {},
   "source": [
    "### re.compile"
   ]
  },
  {
   "cell_type": "code",
   "execution_count": 26,
   "metadata": {},
   "outputs": [
    {
     "name": "stdout",
     "output_type": "stream",
     "text": [
      "idly idly mat pat idly\n"
     ]
    }
   ],
   "source": [
    "import re\n",
    "\n",
    "food = 'rat hat mat pat rat'\n",
    "\n",
    "regex = re.compile(\"[r,h]at\")\n",
    "food = regex.sub('idly',food)\n",
    "print(food)"
   ]
  },
  {
   "cell_type": "markdown",
   "metadata": {},
   "source": [
    "### re.sub - replace \\n with \" \""
   ]
  },
  {
   "cell_type": "code",
   "execution_count": 125,
   "metadata": {},
   "outputs": [
    {
     "name": "stdout",
     "output_type": "stream",
     "text": [
      " keep the blue flag flying high chelsea \n"
     ]
    }
   ],
   "source": [
    "import re\n",
    "\n",
    "randstr = '''\n",
    "keep the blue flag\n",
    "flying high\n",
    "chelsea\n",
    "'''\n",
    "regex = re.compile(\"\\n\")\n",
    "randstr = regex.sub(\" \",randstr)\n",
    "print(randstr)"
   ]
  },
  {
   "cell_type": "markdown",
   "metadata": {},
   "source": [
    "### Search phone number"
   ]
  },
  {
   "cell_type": "code",
   "execution_count": 127,
   "metadata": {},
   "outputs": [
    {
     "name": "stdout",
     "output_type": "stream",
     "text": [
      "<_sre.SRE_Match object; span=(0, 10), match='9839483949'>\n"
     ]
    }
   ],
   "source": [
    "import re\n",
    "\n",
    "phn = '9839483949'\n",
    "x = re.search('\\d{10}',phn)\n",
    "print(x)"
   ]
  },
  {
   "cell_type": "code",
   "execution_count": 128,
   "metadata": {},
   "outputs": [
    {
     "name": "stdout",
     "output_type": "stream",
     "text": [
      "['9839483949']\n"
     ]
    }
   ],
   "source": [
    "import re\n",
    "\n",
    "phn = '9839483949'\n",
    "x = re.findall('\\d{10}',phn)\n",
    "print(x)"
   ]
  },
  {
   "cell_type": "code",
   "execution_count": null,
   "metadata": {},
   "outputs": [],
   "source": []
  }
 ],
 "metadata": {
  "kernelspec": {
   "display_name": "Python 3",
   "language": "python",
   "name": "python3"
  },
  "language_info": {
   "codemirror_mode": {
    "name": "ipython",
    "version": 3
   },
   "file_extension": ".py",
   "mimetype": "text/x-python",
   "name": "python",
   "nbconvert_exporter": "python",
   "pygments_lexer": "ipython3",
   "version": "3.6.9"
  }
 },
 "nbformat": 4,
 "nbformat_minor": 2
}
