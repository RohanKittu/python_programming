{
 "cells": [
  {
   "cell_type": "markdown",
   "metadata": {},
   "source": [
    "## Regular Expressions"
   ]
  },
  {
   "cell_type": "markdown",
   "metadata": {},
   "source": [
    "### Why we use Regular Expression?\n",
    "\n",
    "This concept is mostly used in identifing certain patterns present in a string.\n",
    "\n",
    "- By regular expression ,we can find patterns and replace certain patterns present in a string"
   ]
  },
  {
   "cell_type": "markdown",
   "metadata": {},
   "source": [
    "### What is a regular expression ?\n",
    "\n",
    "A regular expression is a special text string for describing a search pattern."
   ]
  },
  {
   "cell_type": "markdown",
   "metadata": {},
   "source": [
    "#### Demo"
   ]
  },
  {
   "cell_type": "code",
   "execution_count": 1,
   "metadata": {},
   "outputs": [
    {
     "name": "stdout",
     "output_type": "stream",
     "text": [
      "THE NAME IS :-  ['Janice', 'Theon', 'Gabriel', 'Joey']\n",
      "The age is :-  ['22', '33', '44', '21']\n"
     ]
    },
    {
     "data": {
      "text/plain": [
       "{'Janice': '22', 'Theon': '33', 'Gabriel': '44', 'Joey': '21'}"
      ]
     },
     "execution_count": 1,
     "metadata": {},
     "output_type": "execute_result"
    }
   ],
   "source": [
    "import re\n",
    "text=\"Janice is 22 and Theon is 33 Gabriel is 44 and Joey is 21\"\n",
    "ages = re.findall(r'\\d{1,3}',text)\n",
    "names = re.findall(r'[A-Z][a-z]*',text)\n",
    "\n",
    "print(\"THE NAME IS :- \",names)\n",
    "print(\"The age is :- \",ages)\n",
    "\n",
    "#creating a dictionaries\n",
    "dic = {}\n",
    "num = 0\n",
    "for i in names:\n",
    "    dic[i] = ages[num]\n",
    "    num+=1\n",
    "dic"
   ]
  },
  {
   "cell_type": "markdown",
   "metadata": {},
   "source": [
    "#### cursor operation in a regular expression\n",
    "\n",
    "Both the string and RegEx have their own cursor.\n",
    "\n",
    "### various operations present in a regular expressions\n",
    " - Finding a word in a string\n",
    " - Generate an iterator\n",
    " - Match one of any several letters\n",
    " - Match series of range of charactors\n",
    " - Replace String\n",
    " - Match a Single Character"
   ]
  },
  {
   "cell_type": "markdown",
   "metadata": {},
   "source": [
    "## Finding a word\n",
    "\n",
    "methods\n",
    "- Search :- it will search a word present in a string.\n",
    "- findall :- It will return a list of matches."
   ]
  },
  {
   "cell_type": "code",
   "execution_count": 2,
   "metadata": {},
   "outputs": [
    {
     "name": "stdout",
     "output_type": "stream",
     "text": [
      "world found\n"
     ]
    }
   ],
   "source": [
    "if(re.search(\"inform\",\"we need to inform with the latest string\")):\n",
    "    print(\"world found\")\n",
    "else:\n",
    "    print(\"word not found\")"
   ]
  },
  {
   "cell_type": "code",
   "execution_count": null,
   "metadata": {},
   "outputs": [],
   "source": [
    "import re\n",
    "text = \"hello\"\n",
    "x = re.findall('he[l-o][l-o]',text)"
   ]
  },
  {
   "cell_type": "code",
   "execution_count": 3,
   "metadata": {},
   "outputs": [
    {
     "name": "stdout",
     "output_type": "stream",
     "text": [
      "inform\n",
      "inform\n"
     ]
    }
   ],
   "source": [
    "all = re.findall(\"inform\",\"we need to inform with the list of information\")\n",
    "for i in all:\n",
    "    print(i)"
   ]
  },
  {
   "cell_type": "markdown",
   "metadata": {},
   "source": [
    "## Generate an iterator\n",
    "\n",
    "methods\n",
    "\n",
    "finditer -It will the starting and ending index for all the words which i am finding"
   ]
  },
  {
   "cell_type": "code",
   "execution_count": 4,
   "metadata": {},
   "outputs": [
    {
     "name": "stdout",
     "output_type": "stream",
     "text": [
      "<re.Match object; span=(11, 18), match='inform '>\n",
      "(11, 18)\n",
      "(11, 18)\n",
      "<re.Match object; span=(38, 45), match='informa'>\n",
      "(38, 45)\n",
      "(38, 45)\n"
     ]
    }
   ],
   "source": [
    "str = \"we need to inform him with the latest information\"\n",
    "for  i in re.finditer('inform.',str):\n",
    "    print(i)\n",
    "    print(i.span())\n",
    "    locTuple = i.span()\n",
    "    print(locTuple)"
   ]
  },
  {
   "cell_type": "markdown",
   "metadata": {},
   "source": [
    "## Match words with a particular pattern"
   ]
  },
  {
   "cell_type": "code",
   "execution_count": 5,
   "metadata": {},
   "outputs": [
    {
     "name": "stdout",
     "output_type": "stream",
     "text": [
      "sat\n",
      "hat\n",
      "mat\n",
      "pat\n"
     ]
    }
   ],
   "source": [
    "str = \"sat,hat,mat,pat\"\n",
    "#here we are extracting the worlds starting from s,h,m and p and ending with at\n",
    "allstr = re.findall(\"[shmp]at\",str)\n",
    "for i in allstr:\n",
    "    print(i)"
   ]
  },
  {
   "cell_type": "markdown",
   "metadata": {},
   "source": [
    "## Matching series of range of characters"
   ]
  },
  {
   "cell_type": "code",
   "execution_count": 6,
   "metadata": {},
   "outputs": [
    {
     "name": "stdout",
     "output_type": "stream",
     "text": [
      "hat\n",
      "mat\n"
     ]
    }
   ],
   "source": [
    "#matching the first charactor from h to m\n",
    "someStr = re.findall(\"[h-m]at\",str)\n",
    "for i in someStr:\n",
    "    print(i)"
   ]
  },
  {
   "cell_type": "code",
   "execution_count": 7,
   "metadata": {},
   "outputs": [
    {
     "name": "stdout",
     "output_type": "stream",
     "text": [
      "sat\n",
      "pat\n"
     ]
    }
   ],
   "source": [
    "#matching and extracting every word apart from  range of charactors.\n",
    "somestr =  re.findall(\"[^h-m]at\",str)\n",
    "for i in somestr:\n",
    "    print(i)"
   ]
  },
  {
   "cell_type": "markdown",
   "metadata": {},
   "source": [
    "## Replace a string."
   ]
  },
  {
   "cell_type": "code",
   "execution_count": 8,
   "metadata": {},
   "outputs": [
    {
     "name": "stdout",
     "output_type": "stream",
     "text": [
      "hat food mat pat\n"
     ]
    }
   ],
   "source": [
    "food = \"hat rat mat pat\"\n",
    "regex = re.compile(\"[r]at\")\n",
    "food = regex.sub(\"food\",food)\n",
    "print(food)"
   ]
  },
  {
   "cell_type": "markdown",
   "metadata": {},
   "source": [
    "## solving the back slash problem\n",
    "\n",
    "r\"\" :- This is considered as raw string,raw string takes back slash as a special charactors"
   ]
  },
  {
   "cell_type": "code",
   "execution_count": 9,
   "metadata": {},
   "outputs": [
    {
     "name": "stdout",
     "output_type": "stream",
     "text": [
      "<re.Match object; span=(8, 15), match='\\\\drogba'>\n"
     ]
    }
   ],
   "source": [
    "randstr = \"here is \\\\drogba\"\n",
    "print(re.search(r\"\\\\drogba\",randstr))"
   ]
  },
  {
   "cell_type": "markdown",
   "metadata": {},
   "source": [
    "## solving the proble of new lines and white spaces"
   ]
  },
  {
   "cell_type": "markdown",
   "metadata": {},
   "source": [
    "#### some special charactors :- \n",
    "- \\n :- new line\n",
    "- \\f :- formfeed\n",
    "- \\b :- backspace\n",
    "- \\r :- carriage return\n",
    "- \\t :- Tab\n",
    "- \\v :- Vertical Tab"
   ]
  },
  {
   "cell_type": "code",
   "execution_count": 10,
   "metadata": {},
   "outputs": [
    {
     "name": "stdout",
     "output_type": "stream",
     "text": [
      "\n",
      "keep the blue flag\n",
      "flying high\n",
      "chelsea\n",
      "\n",
      "After applying regular expression ,the string is :-\n"
     ]
    },
    {
     "data": {
      "text/plain": [
       "' keep the blue flag flying high chelsea '"
      ]
     },
     "execution_count": 10,
     "metadata": {},
     "output_type": "execute_result"
    }
   ],
   "source": [
    "st = '''\n",
    "keep the blue flag\n",
    "flying high\n",
    "chelsea\n",
    "'''\n",
    "print(st)\n",
    "\n",
    "#want to remove the newline and replace it with white spaces\n",
    "expression=re.compile(\"\\n\")\n",
    "print(\"After applying regular expression ,the string is :-\")\n",
    "expression.sub(\" \",st)"
   ]
  },
  {
   "cell_type": "markdown",
   "metadata": {},
   "source": [
    "Note :-  The \\d match any number which is present in a string.\n",
    "But if we write \\D ,then it will match any thing excluding all the numbers\n",
    "\n",
    "\\w [a-zA-Z0-9]\n",
    "\\W [^a-zA-Z0-9]"
   ]
  },
  {
   "cell_type": "code",
   "execution_count": 11,
   "metadata": {},
   "outputs": [
    {
     "name": "stdout",
     "output_type": "stream",
     "text": [
      "Matches : 0\n"
     ]
    }
   ],
   "source": [
    "num = \"1234 123456 12345678 123456789\"\n",
    "print(\"Matches :\",len(re.findall(\"\\D{123}\",num)),)"
   ]
  },
  {
   "cell_type": "markdown",
   "metadata": {},
   "source": [
    "Now if i want to match any specific digit ,we can do it as below"
   ]
  },
  {
   "cell_type": "code",
   "execution_count": 12,
   "metadata": {},
   "outputs": [
    {
     "name": "stdout",
     "output_type": "stream",
     "text": [
      "Match :  6\n"
     ]
    }
   ],
   "source": [
    "print(\"Match : \",len(re.findall(\"\\d{4}\",num)))"
   ]
  },
  {
   "cell_type": "markdown",
   "metadata": {},
   "source": [
    "Now we are matching numbers with the certain range of numbers"
   ]
  },
  {
   "cell_type": "code",
   "execution_count": 13,
   "metadata": {},
   "outputs": [
    {
     "name": "stdout",
     "output_type": "stream",
     "text": [
      "Match :  0\n"
     ]
    }
   ],
   "source": [
    "print(\"Match : \",len(re.findall(\"\\d{1-20} \\d{1-20} \\d{1-20} \\d{1-20}\",num)))"
   ]
  },
  {
   "cell_type": "code",
   "execution_count": 14,
   "metadata": {},
   "outputs": [
    {
     "name": "stdout",
     "output_type": "stream",
     "text": [
      "There is a phone number in the text\n"
     ]
    }
   ],
   "source": [
    "#extracting the phone number by regular expression \n",
    "\n",
    "phn = \"412-555-1212\"\n",
    "if(re.search(\"\\d{3}-\\d{3}-\\d{4}\",phn)):\n",
    "    print(\"There is a phone number in the text\")\n",
    "else:\n",
    "    print(\"sorry there is no phone number in the text.\")"
   ]
  },
  {
   "cell_type": "markdown",
   "metadata": {},
   "source": [
    "checking whether a name is a valied full name or not"
   ]
  },
  {
   "cell_type": "markdown",
   "metadata": {},
   "source": [
    "- \\s :- [\\f\\n\\r\\t\\v]\n",
    "- \\S :- [^\\f\\n\\r\\t\\v]"
   ]
  },
  {
   "cell_type": "code",
   "execution_count": 15,
   "metadata": {},
   "outputs": [
    {
     "name": "stdout",
     "output_type": "stream",
     "text": [
      "\n",
      "Enter the valied full name :- \n",
      "Invalied name.\n"
     ]
    }
   ],
   "source": [
    "full_name = input(\"\\nEnter the valied full name :- \")\n",
    "if(re.search('\\w{2,20}\\s\\w{2,20}',full_name)):\n",
    "    print(\"Valied name\")\n",
    "else:\n",
    "    print(\"Invalied name.\")"
   ]
  },
  {
   "cell_type": "markdown",
   "metadata": {},
   "source": [
    "varifing the Email address"
   ]
  },
  {
   "cell_type": "markdown",
   "metadata": {},
   "source": [
    "E-mail address should include\n",
    "- 1 to 20 lowercase and uppercase letters,numbers,plus,.%+-\n",
    "- An @symbol\n",
    "- 2 to 20 lowercase and uppercase letters,numbers,plus\n",
    "- A period\n",
    "- 2 to 3 lowercase and uppercaseletters"
   ]
  },
  {
   "cell_type": "code",
   "execution_count": 16,
   "metadata": {},
   "outputs": [
    {
     "name": "stdout",
     "output_type": "stream",
     "text": [
      "\n",
      "please enter the email address :- \n",
      "Emailmatches: 0\n"
     ]
    }
   ],
   "source": [
    "email = input(\"\\nplease enter the email address :- \")\n",
    "print(\"Emailmatches:\",len(re.findall(\"[\\w._%+-]{1,20}@[\\w.-]{2,20}.[a-zA-z]{2,3}\",email)))"
   ]
  },
  {
   "cell_type": "code",
   "execution_count": 17,
   "metadata": {},
   "outputs": [
    {
     "name": "stdout",
     "output_type": "stream",
     "text": [
      "\n",
      "please enter the code :- \n",
      "not found\n"
     ]
    }
   ],
   "source": [
    "code = input(\"\\nplease enter the code :- \")\n",
    "if(re.search(\"\\(\\d{3}\\) \\d{3}-\\d{4}\",code)):\n",
    "    print(\"found\")\n",
    "else:\n",
    "    print(\"not found\")"
   ]
  },
  {
   "cell_type": "code",
   "execution_count": 18,
   "metadata": {},
   "outputs": [
    {
     "name": "stdout",
     "output_type": "stream",
     "text": [
      "found\n"
     ]
    }
   ],
   "source": [
    "st = \"{hello} @rohan.123\"\n",
    "if(re.search(\"\\{\\w{2,30}\\} @\\w{3,45}.\\d{2,10}\",st)):\n",
    "    print(\"found\")\n",
    "else:\n",
    "    print(\"not found\")"
   ]
  },
  {
   "cell_type": "code",
   "execution_count": 19,
   "metadata": {},
   "outputs": [
    {
     "name": "stdout",
     "output_type": "stream",
     "text": [
      "\n",
      "Enter your email id :- \n",
      "Invalied email id\n"
     ]
    }
   ],
   "source": [
    "str = input(\"\\nEnter your email id :- \")\n",
    "if(re.search('\\w{2,20}@\\w{2,13}.com',str)):\n",
    "    print(\"valid email id\")\n",
    "else:\n",
    "    print(\"Invalied email id\")"
   ]
  },
  {
   "cell_type": "code",
   "execution_count": 20,
   "metadata": {},
   "outputs": [
    {
     "data": {
      "text/plain": [
       "5"
      ]
     },
     "execution_count": 20,
     "metadata": {},
     "output_type": "execute_result"
    }
   ],
   "source": [
    "str = \"hello\"\n",
    "len(str)"
   ]
  },
  {
   "cell_type": "code",
   "execution_count": 21,
   "metadata": {},
   "outputs": [
    {
     "name": "stdout",
     "output_type": "stream",
     "text": [
      "how u doing?\n"
     ]
    }
   ],
   "source": [
    "if(re.search('\\w{2,20}@\\w{2,13}.com',\"rohan@gmail.com\")==None):\n",
    "    print(\"hello\")\n",
    "else:\n",
    "    print(\"how u doing?\")"
   ]
  },
  {
   "cell_type": "code",
   "execution_count": 22,
   "metadata": {},
   "outputs": [],
   "source": [
    "re.match('\\w{2,20}@\\w{2,13}.com',\"rohan\")"
   ]
  },
  {
   "cell_type": "code",
   "execution_count": 23,
   "metadata": {},
   "outputs": [],
   "source": [
    "re.match('\\w{2,20}@\\w{2,13}.com',\"rohan\")"
   ]
  },
  {
   "cell_type": "code",
   "execution_count": 24,
   "metadata": {},
   "outputs": [],
   "source": [
    "re.search('[a-zA-Z]{1,20}[\\w . + & % \\ | ? /]{1,30}@[a-zA-Z].com',\"rohanvarma@gmail.com\")"
   ]
  },
  {
   "cell_type": "code",
   "execution_count": 58,
   "metadata": {},
   "outputs": [
    {
     "name": "stdout",
     "output_type": "stream",
     "text": [
      "\n",
      "Enter the string :- /start\n",
      "/start\n",
      "\n",
      "found\n"
     ]
    }
   ],
   "source": [
    "sts = input(\"\\nEnter the string :- \")\n",
    "print(sts)\n",
    "if(re.search(\"/[a-zA-Z]{1,20}\",sts)):\n",
    "    print(\"\\nfound\")\n",
    "else:\n",
    "    print(\"\\nNot found\")"
   ]
  },
  {
   "cell_type": "code",
   "execution_count": 49,
   "metadata": {},
   "outputs": [],
   "source": [
    "from chatterbot import ChatBot\n",
    "import spacy\n",
    "from chatterbot.trainers import ChatterBotCorpusTrainer\n",
    "#nlp=spacy.load('en')"
   ]
  },
  {
   "cell_type": "code",
   "execution_count": 50,
   "metadata": {},
   "outputs": [],
   "source": [
    "#chatbot initializer\n",
    "bot = ChatBot(\"Chatterbot\",storage_adapter=\"chatterbot.storage.SQLStorageAdapter\")"
   ]
  },
  {
   "cell_type": "code",
   "execution_count": 51,
   "metadata": {},
   "outputs": [
    {
     "name": "stdout",
     "output_type": "stream",
     "text": [
      "Training ai.yml: [#                   ] 6%"
     ]
    },
    {
     "name": "stderr",
     "output_type": "stream",
     "text": [
      "/usr/local/lib/python3.7/site-packages/chatterbot/corpus.py:38: YAMLLoadWarning: calling yaml.load() without Loader=... is deprecated, as the default Loader is unsafe. Please read https://msg.pyyaml.org/load for full details.\n",
      "  return yaml.load(data_file)\n"
     ]
    },
    {
     "name": "stdout",
     "output_type": "stream",
     "text": [
      "Training ai.yml: [####################] 100%\n",
      "Training botprofile.yml: [####################] 100%\n",
      "Training computers.yml: [####################] 100%\n",
      "Training conversations.yml: [####################] 100%\n",
      "Training emotion.yml: [####################] 100%\n",
      "Training food.yml: [####################] 100%\n",
      "Training gossip.yml: [####################] 100%\n",
      "Training greetings.yml: [####################] 100%\n",
      "Training health.yml: [####################] 100%\n",
      "Training history.yml: [####################] 100%\n",
      "Training humor.yml: [####################] 100%\n",
      "Training literature.yml: [####################] 100%\n",
      "Training money.yml: [####################] 100%\n",
      "Training movies.yml: [####################] 100%\n",
      "Training politics.yml: [####################] 100%\n",
      "Training psychology.yml: [####################] 100%\n",
      "Training science.yml: [####################] 100%\n",
      "Training sports.yml: [####################] 100%\n",
      "Training trivia.yml: [####################] 100%\n"
     ]
    }
   ],
   "source": [
    "trainer = ChatterBotCorpusTrainer(bot)\n",
    "trainer.train(\"chatterbot.corpus.english\")"
   ]
  },
  {
   "cell_type": "code",
   "execution_count": 63,
   "metadata": {},
   "outputs": [],
   "source": [
    "x=bot.get_response(str)"
   ]
  },
  {
   "cell_type": "code",
   "execution_count": 64,
   "metadata": {},
   "outputs": [
    {
     "data": {
      "text/plain": [
       "'Greetings!'"
      ]
     },
     "execution_count": 64,
     "metadata": {},
     "output_type": "execute_result"
    }
   ],
   "source": [
    "x.text"
   ]
  },
  {
   "cell_type": "code",
   "execution_count": 66,
   "metadata": {},
   "outputs": [
    {
     "data": {
      "text/plain": [
       "'Hi'"
      ]
     },
     "execution_count": 66,
     "metadata": {},
     "output_type": "execute_result"
    }
   ],
   "source": [
    "bot.get_response(str).text"
   ]
  },
  {
   "cell_type": "code",
   "execution_count": 28,
   "metadata": {},
   "outputs": [
    {
     "name": "stdout",
     "output_type": "stream",
     "text": [
      "/usr/local/lib/python3.7/site-packages/nltk/__init__.py\n"
     ]
    }
   ],
   "source": [
    "import nltk\n",
    "print(nltk.__file__)"
   ]
  },
  {
   "cell_type": "code",
   "execution_count": 29,
   "metadata": {},
   "outputs": [
    {
     "data": {
      "text/plain": [
       "'\\\\'"
      ]
     },
     "execution_count": 29,
     "metadata": {},
     "output_type": "execute_result"
    }
   ],
   "source": [
    "stq=\"\\jddf\"\n",
    "stq[0]"
   ]
  },
  {
   "cell_type": "code",
   "execution_count": 30,
   "metadata": {},
   "outputs": [
    {
     "ename": "SyntaxError",
     "evalue": "EOL while scanning string literal (<ipython-input-30-4e84aa3b715d>, line 1)",
     "output_type": "error",
     "traceback": [
      "\u001b[0;36m  File \u001b[0;32m\"<ipython-input-30-4e84aa3b715d>\"\u001b[0;36m, line \u001b[0;32m1\u001b[0m\n\u001b[0;31m    x=\"\\\"\u001b[0m\n\u001b[0m         ^\u001b[0m\n\u001b[0;31mSyntaxError\u001b[0m\u001b[0;31m:\u001b[0m EOL while scanning string literal\n"
     ]
    }
   ],
   "source": [
    "x=\"\\\"\n",
    "x[0]"
   ]
  },
  {
   "cell_type": "code",
   "execution_count": 68,
   "metadata": {},
   "outputs": [],
   "source": [
    "from chatterbot import ChatBot\n",
    "import spacy\n",
    "from chatterbot.trainers import ChatterBotCorpusTrainer"
   ]
  },
  {
   "cell_type": "code",
   "execution_count": 73,
   "metadata": {},
   "outputs": [
    {
     "data": {
      "text/plain": [
       "2.0"
      ]
     },
     "execution_count": 73,
     "metadata": {},
     "output_type": "execute_result"
    }
   ],
   "source": [
    "(len([1,2,3])+1)/2"
   ]
  },
  {
   "cell_type": "code",
   "execution_count": 74,
   "metadata": {},
   "outputs": [
    {
     "data": {
      "text/plain": [
       "2"
      ]
     },
     "execution_count": 74,
     "metadata": {},
     "output_type": "execute_result"
    }
   ],
   "source": [
    "round(2)"
   ]
  },
  {
   "cell_type": "code",
   "execution_count": 75,
   "metadata": {},
   "outputs": [
    {
     "data": {
      "text/plain": [
       "4"
      ]
     },
     "execution_count": 75,
     "metadata": {},
     "output_type": "execute_result"
    }
   ],
   "source": [
    "len([1,2,3,4])"
   ]
  },
  {
   "cell_type": "code",
   "execution_count": 82,
   "metadata": {},
   "outputs": [
    {
     "ename": "TypeError",
     "evalue": "can only concatenate list (not \"int\") to list",
     "output_type": "error",
     "traceback": [
      "\u001b[0;31m---------------------------------------------------------------------------\u001b[0m",
      "\u001b[0;31mTypeError\u001b[0m                                 Traceback (most recent call last)",
      "\u001b[0;32m<ipython-input-82-b6046f23bf60>\u001b[0m in \u001b[0;36m<module>\u001b[0;34m\u001b[0m\n\u001b[1;32m      2\u001b[0m \u001b[0mlis1\u001b[0m\u001b[0;34m=\u001b[0m\u001b[0;34m[\u001b[0m\u001b[0;36m1\u001b[0m\u001b[0;34m,\u001b[0m\u001b[0;36m2\u001b[0m\u001b[0;34m]\u001b[0m\u001b[0;34m\u001b[0m\u001b[0;34m\u001b[0m\u001b[0m\n\u001b[1;32m      3\u001b[0m \u001b[0;34m\u001b[0m\u001b[0m\n\u001b[0;32m----> 4\u001b[0;31m \u001b[0mlis\u001b[0m\u001b[0;34m+\u001b[0m\u001b[0mlis1\u001b[0m\u001b[0;34m[\u001b[0m\u001b[0;36m0\u001b[0m\u001b[0;34m]\u001b[0m\u001b[0;34m\u001b[0m\u001b[0;34m\u001b[0m\u001b[0m\n\u001b[0m",
      "\u001b[0;31mTypeError\u001b[0m: can only concatenate list (not \"int\") to list"
     ]
    }
   ],
   "source": [
    "lis=[12,3,4]\n",
    "lis1=[1,2]\n",
    "\n",
    "lis+lis1"
   ]
  },
  {
   "cell_type": "markdown",
   "metadata": {},
   "source": [
    "# Chatter bot"
   ]
  },
  {
   "cell_type": "markdown",
   "metadata": {},
   "source": [
    "####creating a chatter bot"
   ]
  },
  {
   "cell_type": "code",
   "execution_count": 92,
   "metadata": {},
   "outputs": [],
   "source": [
    "from chatterbot import ChatBot\n",
    "chatbot = ChatBot(\"soulpage\")"
   ]
  },
  {
   "cell_type": "markdown",
   "metadata": {},
   "source": [
    "Training the chatbot on the set of conversations"
   ]
  },
  {
   "cell_type": "code",
   "execution_count": 89,
   "metadata": {},
   "outputs": [
    {
     "name": "stdout",
     "output_type": "stream",
     "text": [
      "List Trainer: [####################] 100%\n"
     ]
    }
   ],
   "source": [
    "from chatterbot.trainers import ListTrainer\n",
    "conversation = [\n",
    "    \"Hello\",\n",
    "    \"Hi there!\",\n",
    "    \"How are you doing?\",\n",
    "    \"I'm doing great.\",\n",
    "    \"That is good to hear\",\n",
    "    \"Thank you.\",\n",
    "    \"You're welcome.\"\n",
    "]\n",
    "\n",
    "trainer = ListTrainer(chatbot)\n",
    "\n",
    "trainer.train(conversation)"
   ]
  },
  {
   "cell_type": "markdown",
   "metadata": {},
   "source": [
    "Get a response"
   ]
  },
  {
   "cell_type": "code",
   "execution_count": 90,
   "metadata": {},
   "outputs": [
    {
     "name": "stdout",
     "output_type": "stream",
     "text": [
      "I am doing well, how about you?\n"
     ]
    }
   ],
   "source": [
    "response = chatbot.get_response(\"Good morning!\")\n",
    "print(response)"
   ]
  },
  {
   "cell_type": "markdown",
   "metadata": {},
   "source": [
    "# Practice"
   ]
  },
  {
   "cell_type": "code",
   "execution_count": 115,
   "metadata": {},
   "outputs": [],
   "source": [
    "#initilizing the soulpage bot\n",
    "chatbot = ChatBot('Soulpage Bot',preprocessors=[\n",
    "        'chatterbot.preprocessors.clean_whitespace',\n",
    "        'chatterbot.preprocessors.unescape_html'\n",
    "    ],logic_adapters=[\n",
    "        \"chatterbot.logic.BestMatch\"\n",
    "    ],storage_adapter=\"chatterbot.storage.SQLStorageAdapter\")"
   ]
  },
  {
   "cell_type": "code",
   "execution_count": 8,
   "metadata": {},
   "outputs": [
    {
     "name": "stdout",
     "output_type": "stream",
     "text": [
      "List Trainer: [####################] 100%\n"
     ]
    }
   ],
   "source": [
    "from chatterbot import ChatBot\n",
    "from chatterbot.trainers import ListTrainer\n",
    "\n",
    "#naming the chatbot\n",
    "chatbot = ChatBot('Training Example')\n",
    "\n",
    "#creating a training class\n",
    "trainer = ListTrainer(chatbot)\n",
    "\n",
    "#The belowe code is training the chatbot with the list of conversations\n",
    "\n",
    "#conversation 1\n",
    "trainer.train([\n",
    "    \"Hi there!\",\n",
    "    \"Hello how can I help you?\",\n",
    "    \"Hi Soulpage IT solutions\",\n",
    "    \"Hello how can I help you?\",\n",
    "    \"Hi Soulpage\",\n",
    "    \"Hello how can I help you?\",\n",
    "    \"Good Moring\",\n",
    "    \"Good Moring,How can I help you?\",\n",
    "    \"good afternoon\",\n",
    "    \"Good afternoon,How can I help you?\",\n",
    "    \"good evening\",\n",
    "    \"Good evening ,How can I help You?\",\n",
    "    \"Tell me about Soulpage IT solutions?\",\n",
    "    \"SOULPAGE is a data science technology company based in Hyderabad, India with offices in Abu Dhabi, UAE and Berlin, Germany.Soulpage is made up of a highly experienced team of Data Scientists, Developers, UI/UX Designers, Business Strategists, and Business Analysts. Each team member is conversant with his/her domain. Collectively we work toward the common goal of providing the best results for our clients and partners.\",\n",
    "    \"tell me about you?\",\n",
    "    \"I am a AI powered bot of Soulpage IT solutions,our company is a data science technology company based in Hyderabad, India with offices in Abu Dhabi, UAE and Berlin, Germany.we are made up of a highly experienced team of Data Scientists, Developers, UI/UX Designers, Business Strategists, and Business Analysts. Each team member is conversant with his/her domain. Collectively we work toward the common goal of providing the best results for our clients and partners.\",\n",
    "    \"What are you?\",\n",
    "    \"I am a AI powered bot of Soulpage IT solutions,our company is a data science technology company based in Hyderabad, India with offices in Abu Dhabi, UAE and Berlin, Germany.we are made up of a highly experienced team of Data Scientists, Developers, UI/UX Designers, Business Strategists, and Business Analysts. Each team member is conversant with his/her domain. Collectively we work toward the common goal of providing the best results for our clients and partners.\",\n",
    "    \"give me the contact of HR\",\n",
    "    \"The HR name is sheetal you can contact her through :- \\nEmail ID :- sheetal@soulpageit.com \\nPhone no :-  +91 9032334488\",\n",
    "    \"contact HR\",\n",
    "    \"The HR name is sheetal you can contact her through :- \\nEmail ID :- sheetal@soulpageit.com \\nPhone no :-  +91 9032334488\",\n",
    "    \"what are the job opening in the comany?\",\n",
    "    \"You can see job opening in the following link : https://soulpageit.com/careers/\",\n",
    "    \"Job openings?\",\n",
    "    \"You can see job opening in the following link : https://soulpageit.com/careers/\",\n",
    "    \"what kind of services do you guys offer?\",\n",
    "    \"you can see our services by typing /Services command\",\n",
    "    \"services offered by company?\",\n",
    "    \"you can see our services by typing /Services command\",\n",
    "    \"what are the services soulpage offers?\",\n",
    "    \"you can see our services by typing /Services command\",\n",
    "    \"Who are the owner of Soulpage IT solutions?\",\n",
    "    \"Murali Krishna Karuturi :- Managing director,Ramesh Damma and Pushya Mitra Thiruvooru are the Director of Soulpage IT solutions\",\n",
    "    \"who is the managing director of Soulpage?\",\n",
    "    \"Murali Krishna Karuturi and this is his linkdin profile https://www.linkedin.com/in/murali-krishna-karuturi-4137a411/?originalSubdomain=in\"\n",
    "    \"Contact managing director?\",\n",
    "    \"Email: mkaruturi@soulpageit.com ,Phone no: +91 9989336414\",\n",
    "    \"Contact Murali Krishna Karuturi\",\n",
    "    \"Email: mkaruturi@soulpageit.com ,Phone no: +91 9989336414\",\n",
    "    \"who is Ramesh Damma?\",\n",
    "    \"you can see his details in the following link:- https://www.linkedin.com/in/ramesh-damma/?originalSubdomain=in\",\n",
    "    \"About Ramesh Damma?\",\n",
    "    \"you can see his details in the following link:- https://www.linkedin.com/in/ramesh-damma/?originalSubdomain=in\",\n",
    "    \"who is Ramesh\",\n",
    "    \"you can see his details in the following link:- https://www.linkedin.com/in/ramesh-damma/?originalSubdomain=in\",\n",
    "    \"About mitra\",\n",
    "    \"you can see his details in the following link:- https://www.linkedin.com/in/pushya-mitra/\",\n",
    "    \"about pushya mitra?\",\n",
    "    \"you can see his details in the following link:- https://www.linkedin.com/in/pushya-mitra/\",\n",
    "    \"good night\",\n",
    "    \"good night see you again\",\n",
    "    \"bye\",\n",
    "    \"bye see you again\",\n",
    "    \"good\",\n",
    "    \"Thank You\"\n",
    "])"
   ]
  },
  {
   "cell_type": "code",
   "execution_count": 18,
   "metadata": {},
   "outputs": [],
   "source": [
    "l=[\n",
    "    \"Hi there!\",\n",
    "    \"Hello how can I help you?\",\n",
    "    \"Hi Soulpage IT solutions\",\n",
    "    \"Hello how can I help you?\",\n",
    "    \"Hi Soulpage\",\n",
    "    \"Hello how can I help you?\",\n",
    "    \"Good Moring\",\n",
    "    \"Good Moring,How can I help you?\",\n",
    "    \"good afternoon\",\n",
    "    \"Good afternoon,How can I help you?\",\n",
    "    \"good evening\",\n",
    "    \"Good evening ,How can I help You?\",\n",
    "    \"Tell me about Soulpage IT solutions?\",\n",
    "    \"SOULPAGE is a data science technology company based in Hyderabad, India with offices in Abu Dhabi, UAE and Berlin, Germany.Soulpage is made up of a highly experienced team of Data Scientists, Developers, UI/UX Designers, Business Strategists, and Business Analysts. Each team member is conversant with his/her domain. Collectively we work toward the common goal of providing the best results for our clients and partners.\",\n",
    "    \"tell me about you?\",\n",
    "    \"I am a AI powered bot of Soulpage IT solutions,our company is a data science technology company based in Hyderabad, India with offices in Abu Dhabi, UAE and Berlin, Germany.we are made up of a highly experienced team of Data Scientists, Developers, UI/UX Designers, Business Strategists, and Business Analysts. Each team member is conversant with his/her domain. Collectively we work toward the common goal of providing the best results for our clients and partners.\",\n",
    "    \"What are you?\",\n",
    "    \"I am a AI powered bot of Soulpage IT solutions,our company is a data science technology company based in Hyderabad, India with offices in Abu Dhabi, UAE and Berlin, Germany.we are made up of a highly experienced team of Data Scientists, Developers, UI/UX Designers, Business Strategists, and Business Analysts. Each team member is conversant with his/her domain. Collectively we work toward the common goal of providing the best results for our clients and partners.\",\n",
    "    \"give me the contact of HR\",\n",
    "    \"The HR name is sheetal you can contact her through :- \\nEmail ID :- sheetal@soulpageit.com \\nPhone no :-  +91 9032334488\",\n",
    "    \"contact HR\",\n",
    "    \"The HR name is sheetal you can contact her through :- \\nEmail ID :- sheetal@soulpageit.com \\nPhone no :-  +91 9032334488\",\n",
    "    \"what are the job opening in the comany?\",\n",
    "    \"You can see job opening in the following link : https://soulpageit.com/careers/\",\n",
    "    \"Job openings?\",\n",
    "    \"You can see job opening in the following link : https://soulpageit.com/careers/\",\n",
    "    \"what kind of services do you guys offer?\",\n",
    "    \"you can see our services by typing /Services command\",\n",
    "    \"services offered by company?\",\n",
    "    \"you can see our services by typing /Services command\",\n",
    "    \"what are the services soulpage offers?\",\n",
    "    \"you can see our services by typing /Services command\",\n",
    "    \"Who are the owner of Soulpage IT solutions?\",\n",
    "    \"Murali Krishna Karuturi :- Managing director,Ramesh Damma and Pushya Mitra Thiruvooru are the Director of Soulpage IT solutions\",\n",
    "    \"who is the managing director of Soulpage?\",\n",
    "    \"Murali Krishna Karuturi and this is his linkdin profile https://www.linkedin.com/in/murali-krishna-karuturi-4137a411/?originalSubdomain=in\"\n",
    "    \"Contact managing director?\",\n",
    "    \"Email: mkaruturi@soulpageit.com ,Phone no: +91 9989336414\",\n",
    "    \"Contact Murali Krishna Karuturi\",\n",
    "    \"Email: mkaruturi@soulpageit.com ,Phone no: +91 9989336414\",\n",
    "    \"who is Ramesh Damma?\",\n",
    "    \"you can see his details in the following link:- https://www.linkedin.com/in/ramesh-damma/?originalSubdomain=in\",\n",
    "    \"About Ramesh Damma?\",\n",
    "    \"you can see his details in the following link:- https://www.linkedin.com/in/ramesh-damma/?originalSubdomain=in\",\n",
    "    \"who is Ramesh\",\n",
    "    \"you can see his details in the following link:- https://www.linkedin.com/in/ramesh-damma/?originalSubdomain=in\",\n",
    "    \"About mitra\",\n",
    "    \"you can see his details in the following link:- https://www.linkedin.com/in/pushya-mitra/\",\n",
    "    \"about pushya mitra?\",\n",
    "    \"you can see his details in the following link:- https://www.linkedin.com/in/pushya-mitra/\",\n",
    "    \"good night\",\n",
    "    \"good night see you again\",\n",
    "    \"bye\",\n",
    "    \"bye see you again\",\n",
    "    \"good\",\n",
    "    \"Thank You\"\n",
    "]"
   ]
  },
  {
   "cell_type": "code",
   "execution_count": 19,
   "metadata": {},
   "outputs": [
    {
     "data": {
      "text/plain": [
       "'Hi there!'"
      ]
     },
     "execution_count": 19,
     "metadata": {},
     "output_type": "execute_result"
    }
   ],
   "source": []
  },
  {
   "cell_type": "code",
   "execution_count": 129,
   "metadata": {},
   "outputs": [
    {
     "name": "stdout",
     "output_type": "stream",
     "text": [
      "<chatterbot.trainers.ListTrainer object at 0x148c42b50>\n"
     ]
    }
   ],
   "source": [
    "print(trainer)"
   ]
  },
  {
   "cell_type": "code",
   "execution_count": 113,
   "metadata": {},
   "outputs": [
    {
     "name": "stdout",
     "output_type": "stream",
     "text": [
      "Training greetings.yml: [####################] 100%\n"
     ]
    }
   ],
   "source": [
    "trainer = ChatterBotCorpusTrainer(chatbot)\n",
    "trainer.train(\n",
    "    \"chatterbot.corpus.english.greetings\"\n",
    ")"
   ]
  },
  {
   "cell_type": "code",
   "execution_count": 121,
   "metadata": {},
   "outputs": [
    {
     "name": "stdout",
     "output_type": "stream",
     "text": [
      "\n",
      "Talk to bot :- soulpage\n"
     ]
    }
   ],
   "source": [
    "st = input(\"\\nTalk to bot :- \")"
   ]
  },
  {
   "cell_type": "code",
   "execution_count": 123,
   "metadata": {},
   "outputs": [],
   "source": [
    "x=bot.get_response(str)"
   ]
  },
  {
   "cell_type": "code",
   "execution_count": 124,
   "metadata": {},
   "outputs": [
    {
     "data": {
      "text/plain": [
       "'Hi'"
      ]
     },
     "execution_count": 124,
     "metadata": {},
     "output_type": "execute_result"
    }
   ],
   "source": [
    "x.text"
   ]
  },
  {
   "cell_type": "code",
   "execution_count": 127,
   "metadata": {},
   "outputs": [
    {
     "name": "stdout",
     "output_type": "stream",
     "text": [
      "0.631578947368421\n"
     ]
    }
   ],
   "source": [
    "from difflib import SequenceMatcher\n",
    "\n",
    "a = \"I love Coding\"\n",
    "b = \"I love\"\n",
    "\n",
    "ratio = SequenceMatcher(None, a, b).ratio()\n",
    "print(ratio)"
   ]
  },
  {
   "cell_type": "markdown",
   "metadata": {},
   "source": [
    "# Training of the chatter bot"
   ]
  },
  {
   "cell_type": "markdown",
   "metadata": {},
   "source": [
    "ChatterBot includes tools that help simplify the process of training a chat bot instance. ChatterBot’s training process involves loading example dialog into the chat bot’s database. This either creates or builds upon the graph data structure that represents the sets of known statements and responses. When a chat bot trainer is provided with a data set, it creates the necessary entries in the chat bot’s knowledge graph so that the statement inputs and responses are correctly represented.\n",
    "\n",
    "Several training classes come built-in with ChatterBot. These utilities range from allowing you to update the chat bot’s database knowledge graph based on a list of statements representing a conversation, to tools that allow you to train your bot based on a corpus of pre-loaded training data.\n",
    "\n",
    "You can also create your own training class. This is recommended if you wish to train your bot with data you have stored in a format that is not already supported by one of the pre-built classes listed below.\n",
    "\n",
    "\n",
    "Setting the training class\n",
    "ChatterBot comes with training classes built in, or you can create your own if needed. To use a training class you call train() on an instance that has been initialized with your chat bot.\n",
    "\n",
    "Training classes Training via list data\n",
    "\n",
    "\n",
    "Allows a chat bot to be trained using a list of strings where the list represents a conversation.\n",
    "\n",
    "For the training process, you will need to pass in a list of statements where the order of each statement is based on its placement in a given conversation.\n",
    "\n",
    "For example, if you were to run bot of the following training calls, then the resulting chatterbot would respond to both statements of “Hi there!” and “Greetings!” by saying “Hello”."
   ]
  },
  {
   "cell_type": "markdown",
   "metadata": {},
   "source": [
    "Glossary\n",
    "- adapters :- A pluggable class that allows a ChatBot instance to execute some kind of functionality.\n",
    "- logic adapter :- An adapter class that allows a ChatBot instance to select a response to\n",
    "- storage adapter :- A class that allows a chat bot to store information somewhere, such as a database.\n",
    "- corpus :- In linguistics, a corpus (plural corpora) or text corpus is a large and structured set of texts. They are used to do statistical analysis and hypothesis testing, checking occurrences or validating linguistic rules within a specific language territory [1].\n",
    "- preprocessors :- A member of a list of functions that can be used to modify text input that the chat bot receives before the text is passed to the logic adapter for processing.\n",
    "- statement :- A single string of text representing something that can be said.\n",
    "- search word :- A word that is not a stop word and has been trimmed in some way ( for example through stemming).\n",
    "- stemming :- A process through which a word is reduced into a derivative form.\n",
    "- stop word :- A common word that is often filtered out during the process of analyzing text.\n",
    "- response :- A single string of text that is uttered as an answer, a reply or an acknowledgement to a statement.\n",
    "- untrained instance :- An untrained instance of the chat bot has an empty database."
   ]
  },
  {
   "cell_type": "markdown",
   "metadata": {},
   "source": [
    "Training the chatbot for the particular conversation which is shown belowe."
   ]
  },
  {
   "cell_type": "code",
   "execution_count": 93,
   "metadata": {},
   "outputs": [
    {
     "name": "stdout",
     "output_type": "stream",
     "text": [
      "List Trainer: [####################] 100%\n",
      "List Trainer: [####################] 100%\n"
     ]
    }
   ],
   "source": [
    "from chatterbot import ChatBot\n",
    "from chatterbot.trainers import ListTrainer\n",
    "\n",
    "#naming the chatbot\n",
    "chatbot = ChatBot('Training Example')\n",
    "\n",
    "#creating a training class\n",
    "trainer = ListTrainer(chatbot)\n",
    "\n",
    "#The belowe code is training the chatbot with the list of conversations\n",
    "\n",
    "#conversation 1\n",
    "trainer.train([\n",
    "    \"Hi there!\",\n",
    "    \"Hello\",\n",
    "])\n",
    "\n",
    "#conversation 2\n",
    "trainer.train([\n",
    "    \"Greetings!\",\n",
    "    \"Hello\",\n",
    "])"
   ]
  },
  {
   "cell_type": "markdown",
   "metadata": {},
   "source": [
    "You can also provide longer lists of training conversations. This will establish each item in the list as a possible response to it’s predecessor in the list."
   ]
  },
  {
   "cell_type": "code",
   "execution_count": null,
   "metadata": {},
   "outputs": [],
   "source": [
    "trainer.train([\n",
    "    \"How are you?\",\n",
    "    \"I am good.\",\n",
    "    \"That is good to hear.\",\n",
    "    \"Thank you\",\n",
    "    \"You are welcome.\",\n",
    "])"
   ]
  },
  {
   "cell_type": "markdown",
   "metadata": {},
   "source": [
    "# Training with corpus data"
   ]
  },
  {
   "cell_type": "markdown",
   "metadata": {},
   "source": [
    "ChatterBot comes with a corpus data and utility module that makes it easy to quickly train your bot to communicate. To do so, simply specify the corpus data modules you want to use."
   ]
  },
  {
   "cell_type": "code",
   "execution_count": null,
   "metadata": {},
   "outputs": [],
   "source": [
    "from chatterbot.trainers import ChatterBotCorpusTrainer\n",
    "\n",
    "chatbot1 = ChatBot('bot2')\n",
    "trainer = ChatterBotCorpusTrainer(chatbot1)\n",
    "trainer.train(\n",
    "    \"chatterbot.corpus.english\"\n",
    ")"
   ]
  },
  {
   "cell_type": "markdown",
   "metadata": {},
   "source": [
    "### Specifying corpus scope\n",
    "It is also possible to import individual subsets of ChatterBot’s corpus at once. For example, if you only wish to train based on the english greetings and conversations corpora then you would simply specify them."
   ]
  },
  {
   "cell_type": "code",
   "execution_count": null,
   "metadata": {},
   "outputs": [],
   "source": [
    "trainer.train(\n",
    "    \"chatterbot.corpus.english.greetings\",\n",
    "    \"chatterbot.corpus.english.conversations\"\n",
    ")"
   ]
  },
  {
   "cell_type": "markdown",
   "metadata": {},
   "source": [
    "You can also specify file paths to corpus files or directories of corpus files when calling the train method."
   ]
  },
  {
   "cell_type": "code",
   "execution_count": null,
   "metadata": {},
   "outputs": [],
   "source": [
    "trainer.train(\n",
    "    \"./data/greetings_corpus/custom.corpus.json\",\n",
    "    \"./data/my_corpus/\"\n",
    ")"
   ]
  },
  {
   "cell_type": "markdown",
   "metadata": {},
   "source": [
    "#### Preprocessors\n",
    "ChatterBot’s preprocessors are simple functions that modify the input statement that a chat bot receives before the statement gets processed by the logic adaper.\n",
    "\n",
    "Here is an example of how to set preprocessors. The preprocessors parameter should be a list of strings of the import paths to your preprocessors."
   ]
  },
  {
   "cell_type": "code",
   "execution_count": null,
   "metadata": {},
   "outputs": [],
   "source": [
    "chatbot = ChatBot(\n",
    "    'Bob the Bot',\n",
    "    preprocessors=[\n",
    "        'chatterbot.preprocessors.clean_whitespace'\n",
    "    ]\n",
    ")"
   ]
  },
  {
   "cell_type": "markdown",
   "metadata": {},
   "source": [
    "- chatterbot.preprocessors.clean_whitespace\n",
    "- chatterbot.preprocessors.unescape_html\n",
    "- chatterbot.preprocessors.convert_to_ascii"
   ]
  },
  {
   "cell_type": "markdown",
   "metadata": {},
   "source": [
    "### Logic Adapters\n",
    "\n",
    "Logic adapters determine the logic for how ChatterBot selects a response to a given input statement.\n",
    "\n",
    "##### How logic adapters select a response\n",
    "A typical logic adapter designed to return a response to an input statement will use two main steps to do this. The first step involves searching the database for a known statement that matches or closely matches the input statement. Once a match is selected, the second step involves selecting a known response to the selected match. Frequently, there will be a number of existing statements that are responses to the known match.\n",
    "\n",
    "To help with the selection of the response, several methods are built into ChatterBot for selecting a response from the available options.\n",
    "\n",
    "Response selection methods\n",
    "Response selection methods determines which response should be used in the event that multiple responses are generated within a logic adapter."
   ]
  },
  {
   "cell_type": "markdown",
   "metadata": {},
   "source": [
    "https://chatterbot.readthedocs.io/en/stable/logic/response_selection.html"
   ]
  },
  {
   "cell_type": "code",
   "execution_count": 5,
   "metadata": {},
   "outputs": [],
   "source": [
    "import logging\n",
    "def get_first_response(input_statement, response_list, storage=None):\n",
    "    \"\"\"\n",
    "    :param input_statement: A statement, that closely matches an input to the chat bot.\n",
    "    :type input_statement: Statement\n",
    "\n",
    "    :param response_list: A list of statement options to choose a response from.\n",
    "    :type response_list: list\n",
    "\n",
    "    :param storage: An instance of a storage adapter to allow the response selection\n",
    "                    method to access other statements if needed.\n",
    "    :type storage: StorageAdapter\n",
    "\n",
    "    :return: Return the first statement in the response list.\n",
    "    :rtype: Statement\n",
    "    \"\"\"\n",
    "    logger = logging.getLogger(__name__)\n",
    "    logger.info('Selecting first response from list of {} options.'.format(\n",
    "        len(response_list)\n",
    "    ))\n",
    "    return response_list[0]"
   ]
  },
  {
   "cell_type": "code",
   "execution_count": 20,
   "metadata": {},
   "outputs": [
    {
     "data": {
      "text/plain": [
       "'Hi there!'"
      ]
     },
     "execution_count": 20,
     "metadata": {},
     "output_type": "execute_result"
    }
   ],
   "source": [
    "get_first_response(\"hello soulpage\",l)"
   ]
  },
  {
   "cell_type": "code",
   "execution_count": 27,
   "metadata": {},
   "outputs": [],
   "source": [
    "def get_most_frequent_response(input_statement, response_list, storage=None):\n",
    "    \"\"\"\n",
    "    :param input_statement: A statement, that closely matches an input to the chat bot.\n",
    "    :type input_statement: Statement\n",
    "\n",
    "    :param response_list: A list of statement options to choose a response from.\n",
    "    :type response_list: list\n",
    "\n",
    "    :param storage: An instance of a storage adapter to allow the response selection\n",
    "                    method to access other statements if needed.\n",
    "    :type storage: StorageAdapter\n",
    "\n",
    "    :return: The response statement with the greatest number of occurrences.\n",
    "    :rtype: Statement\n",
    "    \"\"\"\n",
    "    matching_response = None\n",
    "    occurrence_count = -1\n",
    "\n",
    "    logger = logging.getLogger(__name__)\n",
    "    logger.info('Selecting response with greatest number of occurrences.')\n",
    "    for statement in response_list:\n",
    "        count = len(list(storage.filter(\n",
    "            text=statement.text,\n",
    "            in_response_to=input_statement.text)\n",
    "        ))\n",
    "        # Keep the more common statement\n",
    "        if count >= occurrence_count:\n",
    "            matching_response = statement\n",
    "            occurrence_count = count\n",
    "\n",
    "    # Choose the most commonly occuring matching response\n",
    "    return matching_response"
   ]
  },
  {
   "cell_type": "code",
   "execution_count": 23,
   "metadata": {},
   "outputs": [],
   "source": [
    "def get_random_response(input_statement, response_list, storage=None):\n",
    "    \"\"\"\n",
    "    :param input_statement: A statement, that closely matches an input to the chat bot.\n",
    "    :type input_statement: Statement\n",
    "\n",
    "    :param response_list: A list of statement options to choose a response from.\n",
    "    :type response_list: list\n",
    "\n",
    "    :param storage: An instance of a storage adapter to allow the response selection\n",
    "                    method to access other statements if needed.\n",
    "    :type storage: StorageAdapter\n",
    "\n",
    "    :return: Choose a random response from the selection.\n",
    "    :rtype: Statement\n",
    "    \"\"\"\n",
    "    from random import choice\n",
    "    logger = logging.getLogger(__name__)\n",
    "    logger.info('Selecting a response from list of {} options.'.format(\n",
    "        len(response_list)\n",
    "    ))\n",
    "    return choice(response_list)"
   ]
  },
  {
   "cell_type": "code",
   "execution_count": 29,
   "metadata": {},
   "outputs": [
    {
     "ename": "NameError",
     "evalue": "name 'count' is not defined",
     "output_type": "error",
     "traceback": [
      "\u001b[0;31m---------------------------------------------------------------------------\u001b[0m",
      "\u001b[0;31mNameError\u001b[0m                                 Traceback (most recent call last)",
      "\u001b[0;32m<ipython-input-29-c548e96347e2>\u001b[0m in \u001b[0;36m<module>\u001b[0;34m\u001b[0m\n\u001b[0;32m----> 1\u001b[0;31m \u001b[0mget_most_frequent_response\u001b[0m\u001b[0;34m(\u001b[0m\u001b[0;34m\"hello soulpage\"\u001b[0m\u001b[0;34m,\u001b[0m\u001b[0ml\u001b[0m\u001b[0;34m)\u001b[0m\u001b[0;34m\u001b[0m\u001b[0;34m\u001b[0m\u001b[0m\n\u001b[0m",
      "\u001b[0;32m<ipython-input-27-43c566f7091c>\u001b[0m in \u001b[0;36mget_most_frequent_response\u001b[0;34m(input_statement, response_list, storage)\u001b[0m\n\u001b[1;32m     27\u001b[0m         '''\n\u001b[1;32m     28\u001b[0m         \u001b[0;31m# Keep the more common statement\u001b[0m\u001b[0;34m\u001b[0m\u001b[0;34m\u001b[0m\u001b[0;34m\u001b[0m\u001b[0m\n\u001b[0;32m---> 29\u001b[0;31m         \u001b[0;32mif\u001b[0m \u001b[0mcount\u001b[0m \u001b[0;34m>=\u001b[0m \u001b[0moccurrence_count\u001b[0m\u001b[0;34m:\u001b[0m\u001b[0;34m\u001b[0m\u001b[0;34m\u001b[0m\u001b[0m\n\u001b[0m\u001b[1;32m     30\u001b[0m             \u001b[0mmatching_response\u001b[0m \u001b[0;34m=\u001b[0m \u001b[0mstatement\u001b[0m\u001b[0;34m\u001b[0m\u001b[0;34m\u001b[0m\u001b[0m\n\u001b[1;32m     31\u001b[0m             \u001b[0moccurrence_count\u001b[0m \u001b[0;34m=\u001b[0m \u001b[0mcount\u001b[0m\u001b[0;34m\u001b[0m\u001b[0;34m\u001b[0m\u001b[0m\n",
      "\u001b[0;31mNameError\u001b[0m: name 'count' is not defined"
     ]
    }
   ],
   "source": [
    "get_most_frequent_response(\"hello soulpage\",l)"
   ]
  },
  {
   "cell_type": "code",
   "execution_count": null,
   "metadata": {},
   "outputs": [],
   "source": []
  }
 ],
 "metadata": {
  "kernelspec": {
   "display_name": "Python 3",
   "language": "python",
   "name": "python3"
  },
  "language_info": {
   "codemirror_mode": {
    "name": "ipython",
    "version": 3
   },
   "file_extension": ".py",
   "mimetype": "text/x-python",
   "name": "python",
   "nbconvert_exporter": "python",
   "pygments_lexer": "ipython3",
   "version": "3.7.6"
  }
 },
 "nbformat": 4,
 "nbformat_minor": 2
}
